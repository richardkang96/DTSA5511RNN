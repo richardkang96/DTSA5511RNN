{
 "cells": [
  {
   "cell_type": "markdown",
   "metadata": {},
   "source": [
    "# Text Classification using RNN and NLP"
   ]
  },
  {
   "cell_type": "markdown",
   "metadata": {},
   "source": [
    "In this Jupyter Notebook, we will use RNN in conjunction with NLP to classify disaster tweets as whether the tweet is a real disaster or not.\n",
    "\n",
    "Natural Language Processing allows us to take texts from sources like Twitter and convert them to numbers so we can do things like classification.\n",
    "\n",
    "Data was retrieved from the following Kaggle competition: \n",
    "Natural language processing with disaster tweets. Kaggle. (n.d.). Retrieved April 28, 2022, from https://www.kaggle.com/competitions/nlp-getting-started/overview "
   ]
  },
  {
   "cell_type": "code",
   "execution_count": 1,
   "metadata": {},
   "outputs": [],
   "source": [
    "import pandas as pd"
   ]
  },
  {
   "cell_type": "code",
   "execution_count": 2,
   "metadata": {},
   "outputs": [
    {
     "name": "stdout",
     "output_type": "stream",
     "text": [
      "/Users/richard/Downloads\n"
     ]
    }
   ],
   "source": [
    "cd Downloads"
   ]
  },
  {
   "cell_type": "code",
   "execution_count": 3,
   "metadata": {},
   "outputs": [],
   "source": [
    "train = pd.read_csv('train (1).csv')\n",
    "test = pd.read_csv('test (1).csv')"
   ]
  },
  {
   "cell_type": "code",
   "execution_count": 4,
   "metadata": {},
   "outputs": [
    {
     "data": {
      "text/html": [
       "<div>\n",
       "<style scoped>\n",
       "    .dataframe tbody tr th:only-of-type {\n",
       "        vertical-align: middle;\n",
       "    }\n",
       "\n",
       "    .dataframe tbody tr th {\n",
       "        vertical-align: top;\n",
       "    }\n",
       "\n",
       "    .dataframe thead th {\n",
       "        text-align: right;\n",
       "    }\n",
       "</style>\n",
       "<table border=\"1\" class=\"dataframe\">\n",
       "  <thead>\n",
       "    <tr style=\"text-align: right;\">\n",
       "      <th></th>\n",
       "      <th>id</th>\n",
       "      <th>keyword</th>\n",
       "      <th>location</th>\n",
       "      <th>text</th>\n",
       "      <th>target</th>\n",
       "    </tr>\n",
       "  </thead>\n",
       "  <tbody>\n",
       "    <tr>\n",
       "      <th>0</th>\n",
       "      <td>1</td>\n",
       "      <td>NaN</td>\n",
       "      <td>NaN</td>\n",
       "      <td>Our Deeds are the Reason of this #earthquake M...</td>\n",
       "      <td>1</td>\n",
       "    </tr>\n",
       "    <tr>\n",
       "      <th>1</th>\n",
       "      <td>4</td>\n",
       "      <td>NaN</td>\n",
       "      <td>NaN</td>\n",
       "      <td>Forest fire near La Ronge Sask. Canada</td>\n",
       "      <td>1</td>\n",
       "    </tr>\n",
       "    <tr>\n",
       "      <th>2</th>\n",
       "      <td>5</td>\n",
       "      <td>NaN</td>\n",
       "      <td>NaN</td>\n",
       "      <td>All residents asked to 'shelter in place' are ...</td>\n",
       "      <td>1</td>\n",
       "    </tr>\n",
       "    <tr>\n",
       "      <th>3</th>\n",
       "      <td>6</td>\n",
       "      <td>NaN</td>\n",
       "      <td>NaN</td>\n",
       "      <td>13,000 people receive #wildfires evacuation or...</td>\n",
       "      <td>1</td>\n",
       "    </tr>\n",
       "    <tr>\n",
       "      <th>4</th>\n",
       "      <td>7</td>\n",
       "      <td>NaN</td>\n",
       "      <td>NaN</td>\n",
       "      <td>Just got sent this photo from Ruby #Alaska as ...</td>\n",
       "      <td>1</td>\n",
       "    </tr>\n",
       "  </tbody>\n",
       "</table>\n",
       "</div>"
      ],
      "text/plain": [
       "   id keyword location                                               text  \\\n",
       "0   1     NaN      NaN  Our Deeds are the Reason of this #earthquake M...   \n",
       "1   4     NaN      NaN             Forest fire near La Ronge Sask. Canada   \n",
       "2   5     NaN      NaN  All residents asked to 'shelter in place' are ...   \n",
       "3   6     NaN      NaN  13,000 people receive #wildfires evacuation or...   \n",
       "4   7     NaN      NaN  Just got sent this photo from Ruby #Alaska as ...   \n",
       "\n",
       "   target  \n",
       "0       1  \n",
       "1       1  \n",
       "2       1  \n",
       "3       1  \n",
       "4       1  "
      ]
     },
     "execution_count": 4,
     "metadata": {},
     "output_type": "execute_result"
    }
   ],
   "source": [
    "train.head()"
   ]
  },
  {
   "cell_type": "markdown",
   "metadata": {},
   "source": [
    "train has 7613 tweets whereas test has 3263 tweets. train has one extra column because test does not have a target column"
   ]
  },
  {
   "cell_type": "code",
   "execution_count": 5,
   "metadata": {},
   "outputs": [
    {
     "data": {
      "text/plain": [
       "(7613, 5)"
      ]
     },
     "execution_count": 5,
     "metadata": {},
     "output_type": "execute_result"
    }
   ],
   "source": [
    "train.shape"
   ]
  },
  {
   "cell_type": "code",
   "execution_count": 6,
   "metadata": {},
   "outputs": [
    {
     "data": {
      "text/plain": [
       "(3263, 4)"
      ]
     },
     "execution_count": 6,
     "metadata": {},
     "output_type": "execute_result"
    }
   ],
   "source": [
    "test.shape"
   ]
  },
  {
   "cell_type": "code",
   "execution_count": 7,
   "metadata": {},
   "outputs": [
    {
     "data": {
      "text/plain": [
       "id             0\n",
       "keyword       61\n",
       "location    2533\n",
       "text           0\n",
       "target         0\n",
       "dtype: int64"
      ]
     },
     "execution_count": 7,
     "metadata": {},
     "output_type": "execute_result"
    }
   ],
   "source": [
    "train.isna().sum()"
   ]
  },
  {
   "cell_type": "markdown",
   "metadata": {},
   "source": [
    "Looks like there are more 0's in train than 1's"
   ]
  },
  {
   "cell_type": "code",
   "execution_count": 760,
   "metadata": {},
   "outputs": [
    {
     "data": {
      "text/plain": [
       "0    4342\n",
       "1    3271\n",
       "Name: target, dtype: int64"
      ]
     },
     "execution_count": 760,
     "metadata": {},
     "output_type": "execute_result"
    }
   ],
   "source": [
    "train['target'].value_counts()"
   ]
  },
  {
   "cell_type": "code",
   "execution_count": 767,
   "metadata": {},
   "outputs": [
    {
     "data": {
      "text/plain": [
       "<AxesSubplot:>"
      ]
     },
     "execution_count": 767,
     "metadata": {},
     "output_type": "execute_result"
    },
    {
     "data": {
      "image/png": "[encoded data removed]",
      "text/plain": [
       "<Figure size 432x288 with 1 Axes>"
      ]
     },
     "metadata": {
      "needs_background": "light"
     },
     "output_type": "display_data"
    }
   ],
   "source": [
    "train['target'].value_counts().plot(kind='bar')"
   ]
  },
  {
   "cell_type": "code",
   "execution_count": 8,
   "metadata": {},
   "outputs": [],
   "source": [
    "import spacy\n",
    "from spacy import displacy\n",
    "nlp = spacy.load('en_core_web_lg')"
   ]
  },
  {
   "cell_type": "markdown",
   "metadata": {},
   "source": [
    "You can see a nice visualization below that shows the type of certain words for a given tweet"
   ]
  },
  {
   "cell_type": "code",
   "execution_count": 9,
   "metadata": {},
   "outputs": [
    {
     "data": {
      "text/html": [
       "<div class=\"entities\" style=\"line-height: 2.5\">\n",
       "<mark class=\"entity\" style=\"background: #e4e7d2; padding: 0.45em 0.6em; margin: 0 0.25em; line-height: 1; border-radius: 0.35em; box-decoration-break: clone; -webkit-box-decoration-break: clone\">\n",
       "    First\n",
       "    <span style=\"font-size: 0.8em; font-weight: bold; line-height: 1; border-radius: 0.35em; text-transform: uppercase; vertical-align: middle; margin-left: 0.5rem\">ORDINAL</span>\n",
       "</mark>\n",
       " night with retainers in. It's quite weird. Better get used to it; I have to wear them \n",
       "<mark class=\"entity\" style=\"background: #bfe1d9; padding: 0.45em 0.6em; margin: 0 0.25em; line-height: 1; border-radius: 0.35em; box-decoration-break: clone; -webkit-box-decoration-break: clone\">\n",
       "    every single night\n",
       "    <span style=\"font-size: 0.8em; font-weight: bold; line-height: 1; border-radius: 0.35em; text-transform: uppercase; vertical-align: middle; margin-left: 0.5rem\">TIME</span>\n",
       "</mark>\n",
       " for \n",
       "<mark class=\"entity\" style=\"background: #bfe1d9; padding: 0.45em 0.6em; margin: 0 0.25em; line-height: 1; border-radius: 0.35em; box-decoration-break: clone; -webkit-box-decoration-break: clone\">\n",
       "    the next year\n",
       "    <span style=\"font-size: 0.8em; font-weight: bold; line-height: 1; border-radius: 0.35em; text-transform: uppercase; vertical-align: middle; margin-left: 0.5rem\">DATE</span>\n",
       "</mark>\n",
       " at least.</div>"
      ],
      "text/plain": [
       "<IPython.core.display.HTML object>"
      ]
     },
     "metadata": {},
     "output_type": "display_data"
    }
   ],
   "source": [
    "doc = nlp(train['text'].iloc[49])\n",
    "displacy.render(doc, style='ent', jupyter=True)"
   ]
  },
  {
   "cell_type": "markdown",
   "metadata": {},
   "source": [
    "Here is another visualization"
   ]
  },
  {
   "cell_type": "code",
   "execution_count": 10,
   "metadata": {},
   "outputs": [
    {
     "data": {
      "text/html": [
       "<div class=\"entities\" style=\"line-height: 2.5\">'The harder the conflict the more glorious the triumph.' \n",
       "<mark class=\"entity\" style=\"background: #aa9cfc; padding: 0.45em 0.6em; margin: 0 0.25em; line-height: 1; border-radius: 0.35em; box-decoration-break: clone; -webkit-box-decoration-break: clone\">\n",
       "    Thomas Paine\n",
       "    <span style=\"font-size: 0.8em; font-weight: bold; line-height: 1; border-radius: 0.35em; text-transform: uppercase; vertical-align: middle; margin-left: 0.5rem\">PERSON</span>\n",
       "</mark>\n",
       "</div>"
      ],
      "text/plain": [
       "<IPython.core.display.HTML object>"
      ]
     },
     "metadata": {},
     "output_type": "display_data"
    }
   ],
   "source": [
    "doc = nlp(train['text'].iloc[109])\n",
    "displacy.render(doc, style='ent', jupyter=True)"
   ]
  },
  {
   "cell_type": "markdown",
   "metadata": {},
   "source": [
    "The following function will preprocess our data. Most importantly it will remove stop words from the text as these words will not add anything of value to our model later on"
   ]
  },
  {
   "cell_type": "code",
   "execution_count": 11,
   "metadata": {},
   "outputs": [],
   "source": [
    "import re\n",
    "import nltk\n",
    "from nltk.corpus import stopwords\n",
    "def text_preprocess(text):\n",
    "    text = re.sub(r'http\\S+', '', text)\n",
    "    text = re.sub(\"[^0-9a-zA-Z]\", ' ', text)\n",
    "    text = text.lower().split()\n",
    "    stop_words = set(stopwords.words(\"english\"))\n",
    "    text = [w for w in text if w not in stop_words]\n",
    "    text = \" \".join(text)\n",
    "    return text"
   ]
  },
  {
   "cell_type": "markdown",
   "metadata": {},
   "source": [
    "You can see the function got rid of the links in the front and the back of the following tweet and made all of the words lower case as well"
   ]
  },
  {
   "cell_type": "code",
   "execution_count": 12,
   "metadata": {},
   "outputs": [
    {
     "data": {
      "text/plain": [
       "'http://t.co/AY6zzcUpnz Twelve feared killed in Pakistani air ambulance helicopter crash http://t.co/sC9dNS41Mc'"
      ]
     },
     "execution_count": 12,
     "metadata": {},
     "output_type": "execute_result"
    }
   ],
   "source": [
    "train['text'][172]"
   ]
  },
  {
   "cell_type": "code",
   "execution_count": 13,
   "metadata": {},
   "outputs": [
    {
     "data": {
      "text/plain": [
       "'twelve feared killed pakistani air ambulance helicopter crash'"
      ]
     },
     "execution_count": 13,
     "metadata": {},
     "output_type": "execute_result"
    }
   ],
   "source": [
    "text_preprocess(train['text'][172])"
   ]
  },
  {
   "cell_type": "markdown",
   "metadata": {},
   "source": [
    "Time to tokenize all of the words in each tweet"
   ]
  },
  {
   "cell_type": "code",
   "execution_count": 14,
   "metadata": {},
   "outputs": [],
   "source": [
    "from nltk import word_tokenize\n",
    "tokenized_text = []\n",
    "for text in range(0,len(train)):\n",
    "    a = word_tokenize(text_preprocess(train['text'].iloc[text]))\n",
    "    tokenized_text.append(a)"
   ]
  },
  {
   "cell_type": "code",
   "execution_count": 15,
   "metadata": {},
   "outputs": [
    {
     "data": {
      "text/plain": [
       "['afraid', 'tornado', 'coming', 'area']"
      ]
     },
     "execution_count": 15,
     "metadata": {},
     "output_type": "execute_result"
    }
   ],
   "source": [
    "tokenized_text[9]"
   ]
  },
  {
   "cell_type": "markdown",
   "metadata": {},
   "source": [
    "Let's create a list of all of the words in tokenized_text and keep only one of each word"
   ]
  },
  {
   "cell_type": "code",
   "execution_count": 16,
   "metadata": {},
   "outputs": [],
   "source": [
    "list_of_words = []\n",
    "for text in tokenized_text: \n",
    "    for word in text:\n",
    "        list_of_words.append(word.lower())"
   ]
  },
  {
   "cell_type": "code",
   "execution_count": 776,
   "metadata": {},
   "outputs": [],
   "source": [
    "# sets only contain unique values"
   ]
  },
  {
   "cell_type": "code",
   "execution_count": 17,
   "metadata": {},
   "outputs": [],
   "source": [
    "list_of_words = list(set(list_of_words))"
   ]
  },
  {
   "cell_type": "markdown",
   "metadata": {},
   "source": [
    "Let's find out how long each tweet is after preprocessing"
   ]
  },
  {
   "cell_type": "code",
   "execution_count": 18,
   "metadata": {},
   "outputs": [],
   "source": [
    "length_ = []\n",
    "for length in range(len(tokenized_text)):\n",
    "    length_.append(len(tokenized_text[length]))"
   ]
  },
  {
   "cell_type": "markdown",
   "metadata": {},
   "source": [
    "Looks like the mean is about 9.5"
   ]
  },
  {
   "cell_type": "code",
   "execution_count": 19,
   "metadata": {},
   "outputs": [
    {
     "name": "stdout",
     "output_type": "stream",
     "text": [
      "9.491527650072245\n",
      "27\n",
      "1\n"
     ]
    }
   ],
   "source": [
    "from statistics import mean\n",
    "print(mean(length_))\n",
    "print(max(length_))\n",
    "print(min(length_))"
   ]
  },
  {
   "cell_type": "code",
   "execution_count": 20,
   "metadata": {},
   "outputs": [],
   "source": [
    "import seaborn as sns"
   ]
  },
  {
   "cell_type": "markdown",
   "metadata": {},
   "source": [
    "Here is a histogram of the lengths of the texts in train after preprocessing"
   ]
  },
  {
   "cell_type": "code",
   "execution_count": 21,
   "metadata": {},
   "outputs": [
    {
     "data": {
      "text/plain": [
       "<AxesSubplot:ylabel='Count'>"
      ]
     },
     "execution_count": 21,
     "metadata": {},
     "output_type": "execute_result"
    },
    {
     "data": {
      "image/png": "[encoded data removed]",
      "text/plain": [
       "<Figure size 432x288 with 1 Axes>"
      ]
     },
     "metadata": {
      "needs_background": "light"
     },
     "output_type": "display_data"
    }
   ],
   "source": [
    "sns.histplot(length_)"
   ]
  },
  {
   "cell_type": "markdown",
   "metadata": {},
   "source": [
    "There are 16,824 unique words in train's text column after preprocessing"
   ]
  },
  {
   "cell_type": "code",
   "execution_count": 22,
   "metadata": {},
   "outputs": [
    {
     "data": {
      "text/plain": [
       "16824"
      ]
     },
     "execution_count": 22,
     "metadata": {},
     "output_type": "execute_result"
    }
   ],
   "source": [
    "len(list_of_words)"
   ]
  },
  {
   "cell_type": "markdown",
   "metadata": {},
   "source": [
    "Time to vectorize the tokenized_text list"
   ]
  },
  {
   "cell_type": "code",
   "execution_count": 23,
   "metadata": {},
   "outputs": [],
   "source": [
    "from keras.preprocessing import text, sequence\n",
    "vectorizer = text.Tokenizer()\n",
    "vectorizer.fit_on_texts(tokenized_text)\n",
    "vectorized_text = vectorizer.texts_to_sequences(tokenized_text)\n",
    "X = sequence.pad_sequences(vectorized_text,maxlen=26)"
   ]
  },
  {
   "cell_type": "code",
   "execution_count": 24,
   "metadata": {},
   "outputs": [],
   "source": [
    "y = train['target']"
   ]
  },
  {
   "cell_type": "markdown",
   "metadata": {},
   "source": [
    "Let's split the data. We will use 0.01 as test_size because we don't have a lot of data. We would like the model to have as much to train on as possible"
   ]
  },
  {
   "cell_type": "code",
   "execution_count": 25,
   "metadata": {},
   "outputs": [],
   "source": [
    "from sklearn.model_selection import train_test_split\n",
    "X_train, X_test, y_train, y_test = train_test_split(X, y, test_size=0.01, random_state=42)"
   ]
  },
  {
   "cell_type": "code",
   "execution_count": 26,
   "metadata": {},
   "outputs": [],
   "source": [
    "from keras.layers import Input, Dense, LSTM, Embedding, Dropout, Activation, GlobalMaxPool1D, BatchNormalization, MaxPool1D, Bidirectional\n",
    "from tensorflow.keras.models import Sequential\n",
    "from tensorflow.keras.optimizers import Adam, SGD"
   ]
  },
  {
   "cell_type": "markdown",
   "metadata": {},
   "source": [
    "Let's create our model. We will adjust the adam learning rate, then start by adding an embedding layer. This layer is important since the data we will be feeding the model will be a matrix. After, we will add a LSTM layer which is the RNN part of this model. Then we will add 3 dense layers with the last layer being the output layer. The output layer will have one neuron since this is a binary classification problem and the activation should be sigmoid since sigmoid outputs range from 0 to 1. We will add dropout layers and batch normalization layers in between the layers discussed above to regularize and prevent the model from overfitting to the training data. The loss function will be binary_crossentropy with adam as the optimizer. The model you see below was a result of multiple hyperparameter tunings. I tuned based on what the loss/validation loss was along with accuracy/validation accuracy"
   ]
  },
  {
   "cell_type": "code",
   "execution_count": 713,
   "metadata": {},
   "outputs": [],
   "source": [
    "adam = Adam(learning_rate=0.000001)"
   ]
  },
  {
   "cell_type": "code",
   "execution_count": 757,
   "metadata": {},
   "outputs": [],
   "source": [
    "from keras.regularizers import l1, l2\n",
    "model = Sequential()\n",
    "model.add(Embedding(len(list_of_words)+1,16))\n",
    "model.add(Bidirectional(LSTM(400, return_sequences = True, activation='tanh')))\n",
    "model.add(GlobalMaxPool1D())\n",
    "model.add(BatchNormalization())\n",
    "model.add(Dropout(0.7))\n",
    "model.add(Dense(200,activation='relu'))\n",
    "model.add(Dropout(0.7))\n",
    "model.add(Dense(100,activation='relu'))\n",
    "model.add(Dense(1, activation='sigmoid'))  \n",
    "model.compile(loss='binary_crossentropy', optimizer=adam, metrics='accuracy')"
   ]
  },
  {
   "cell_type": "markdown",
   "metadata": {},
   "source": [
    "Early stopping prevents overfitting"
   ]
  },
  {
   "cell_type": "code",
   "execution_count": 758,
   "metadata": {},
   "outputs": [],
   "source": [
    "from keras.callbacks import EarlyStopping\n",
    "early = EarlyStopping(monitor='val_loss',patience=1)"
   ]
  },
  {
   "cell_type": "code",
   "execution_count": 759,
   "metadata": {},
   "outputs": [
    {
     "name": "stdout",
     "output_type": "stream",
     "text": [
      "Epoch 1/60\n",
      "942/942 [==============================] - 46s 47ms/step - loss: 0.6880 - accuracy: 0.5594 - val_loss: 0.6892 - val_accuracy: 0.6234\n",
      "Epoch 2/60\n",
      "942/942 [==============================] - 43s 46ms/step - loss: 0.6888 - accuracy: 0.5532 - val_loss: 0.6879 - val_accuracy: 0.6104\n",
      "Epoch 3/60\n",
      "942/942 [==============================] - 44s 46ms/step - loss: 0.6886 - accuracy: 0.5579 - val_loss: 0.6870 - val_accuracy: 0.6104\n",
      "Epoch 4/60\n",
      "942/942 [==============================] - 44s 46ms/step - loss: 0.6868 - accuracy: 0.5653 - val_loss: 0.6860 - val_accuracy: 0.6104\n",
      "Epoch 5/60\n",
      "942/942 [==============================] - 44s 46ms/step - loss: 0.6863 - accuracy: 0.5671 - val_loss: 0.6851 - val_accuracy: 0.6104\n",
      "Epoch 6/60\n",
      "942/942 [==============================] - 44s 47ms/step - loss: 0.6862 - accuracy: 0.5656 - val_loss: 0.6842 - val_accuracy: 0.6234\n",
      "Epoch 7/60\n",
      "942/942 [==============================] - 44s 47ms/step - loss: 0.6856 - accuracy: 0.5669 - val_loss: 0.6834 - val_accuracy: 0.6234\n",
      "Epoch 8/60\n",
      "942/942 [==============================] - 44s 47ms/step - loss: 0.6863 - accuracy: 0.5677 - val_loss: 0.6823 - val_accuracy: 0.6234\n",
      "Epoch 9/60\n",
      "942/942 [==============================] - 44s 47ms/step - loss: 0.6852 - accuracy: 0.5713 - val_loss: 0.6813 - val_accuracy: 0.6234\n",
      "Epoch 10/60\n",
      "942/942 [==============================] - 44s 47ms/step - loss: 0.6842 - accuracy: 0.5685 - val_loss: 0.6807 - val_accuracy: 0.6234\n",
      "Epoch 11/60\n",
      "942/942 [==============================] - 45s 48ms/step - loss: 0.6833 - accuracy: 0.5665 - val_loss: 0.6796 - val_accuracy: 0.6234\n",
      "Epoch 12/60\n",
      "942/942 [==============================] - 47s 50ms/step - loss: 0.6833 - accuracy: 0.5678 - val_loss: 0.6788 - val_accuracy: 0.6234\n",
      "Epoch 13/60\n",
      "942/942 [==============================] - 47s 50ms/step - loss: 0.6831 - accuracy: 0.5686 - val_loss: 0.6779 - val_accuracy: 0.6234\n",
      "Epoch 14/60\n",
      "942/942 [==============================] - 48s 50ms/step - loss: 0.6815 - accuracy: 0.5701 - val_loss: 0.6773 - val_accuracy: 0.6234\n",
      "Epoch 15/60\n",
      "942/942 [==============================] - 48s 51ms/step - loss: 0.6821 - accuracy: 0.5666 - val_loss: 0.6762 - val_accuracy: 0.6234\n",
      "Epoch 16/60\n",
      "942/942 [==============================] - 48s 51ms/step - loss: 0.6815 - accuracy: 0.5725 - val_loss: 0.6752 - val_accuracy: 0.6234\n",
      "Epoch 17/60\n",
      "942/942 [==============================] - 48s 51ms/step - loss: 0.6813 - accuracy: 0.5709 - val_loss: 0.6747 - val_accuracy: 0.6234\n",
      "Epoch 18/60\n",
      "942/942 [==============================] - 48s 51ms/step - loss: 0.6808 - accuracy: 0.5703 - val_loss: 0.6742 - val_accuracy: 0.6364\n",
      "Epoch 19/60\n",
      "942/942 [==============================] - 49s 52ms/step - loss: 0.6802 - accuracy: 0.5725 - val_loss: 0.6729 - val_accuracy: 0.6364\n",
      "Epoch 20/60\n",
      "942/942 [==============================] - 49s 52ms/step - loss: 0.6786 - accuracy: 0.5736 - val_loss: 0.6721 - val_accuracy: 0.6364\n",
      "Epoch 21/60\n",
      "942/942 [==============================] - 49s 52ms/step - loss: 0.6793 - accuracy: 0.5697 - val_loss: 0.6710 - val_accuracy: 0.6364\n",
      "Epoch 22/60\n",
      "942/942 [==============================] - 49s 52ms/step - loss: 0.6783 - accuracy: 0.5711 - val_loss: 0.6703 - val_accuracy: 0.6494\n",
      "Epoch 23/60\n",
      "942/942 [==============================] - 49s 52ms/step - loss: 0.6773 - accuracy: 0.5742 - val_loss: 0.6692 - val_accuracy: 0.6494\n",
      "Epoch 24/60\n",
      "942/942 [==============================] - 49s 52ms/step - loss: 0.6776 - accuracy: 0.5743 - val_loss: 0.6684 - val_accuracy: 0.6494\n",
      "Epoch 25/60\n",
      "942/942 [==============================] - 49s 52ms/step - loss: 0.6772 - accuracy: 0.5715 - val_loss: 0.6677 - val_accuracy: 0.6494\n",
      "Epoch 26/60\n",
      "942/942 [==============================] - 49s 52ms/step - loss: 0.6772 - accuracy: 0.5742 - val_loss: 0.6668 - val_accuracy: 0.6494\n",
      "Epoch 27/60\n",
      "942/942 [==============================] - 50s 53ms/step - loss: 0.6753 - accuracy: 0.5740 - val_loss: 0.6659 - val_accuracy: 0.6494\n",
      "Epoch 28/60\n",
      "942/942 [==============================] - 50s 53ms/step - loss: 0.6768 - accuracy: 0.5714 - val_loss: 0.6653 - val_accuracy: 0.6494\n",
      "Epoch 29/60\n",
      "942/942 [==============================] - 50s 53ms/step - loss: 0.6752 - accuracy: 0.5754 - val_loss: 0.6645 - val_accuracy: 0.6494\n",
      "Epoch 30/60\n",
      "942/942 [==============================] - 50s 53ms/step - loss: 0.6753 - accuracy: 0.5763 - val_loss: 0.6640 - val_accuracy: 0.6494\n",
      "Epoch 31/60\n",
      "942/942 [==============================] - 50s 53ms/step - loss: 0.6741 - accuracy: 0.5743 - val_loss: 0.6629 - val_accuracy: 0.6494\n",
      "Epoch 32/60\n",
      "942/942 [==============================] - 50s 53ms/step - loss: 0.6726 - accuracy: 0.5722 - val_loss: 0.6615 - val_accuracy: 0.6494\n",
      "Epoch 33/60\n",
      "942/942 [==============================] - 50s 53ms/step - loss: 0.6735 - accuracy: 0.5764 - val_loss: 0.6614 - val_accuracy: 0.6494\n",
      "Epoch 34/60\n",
      "942/942 [==============================] - 47s 50ms/step - loss: 0.6727 - accuracy: 0.5734 - val_loss: 0.6603 - val_accuracy: 0.6494\n",
      "Epoch 35/60\n",
      "942/942 [==============================] - 47s 50ms/step - loss: 0.6720 - accuracy: 0.5759 - val_loss: 0.6592 - val_accuracy: 0.6494\n",
      "Epoch 36/60\n",
      "942/942 [==============================] - 47s 50ms/step - loss: 0.6718 - accuracy: 0.5739 - val_loss: 0.6590 - val_accuracy: 0.6623\n",
      "Epoch 37/60\n",
      "942/942 [==============================] - 49s 52ms/step - loss: 0.6726 - accuracy: 0.5746 - val_loss: 0.6574 - val_accuracy: 0.6494\n",
      "Epoch 38/60\n",
      "942/942 [==============================] - 48s 51ms/step - loss: 0.6721 - accuracy: 0.5748 - val_loss: 0.6570 - val_accuracy: 0.6623\n",
      "Epoch 39/60\n",
      "942/942 [==============================] - 44s 47ms/step - loss: 0.6711 - accuracy: 0.5738 - val_loss: 0.6567 - val_accuracy: 0.6494\n",
      "Epoch 40/60\n",
      "942/942 [==============================] - 44s 46ms/step - loss: 0.6704 - accuracy: 0.5747 - val_loss: 0.6557 - val_accuracy: 0.6494\n",
      "Epoch 41/60\n",
      "942/942 [==============================] - 44s 47ms/step - loss: 0.6712 - accuracy: 0.5762 - val_loss: 0.6552 - val_accuracy: 0.6494\n",
      "Epoch 42/60\n",
      "942/942 [==============================] - 45s 47ms/step - loss: 0.6692 - accuracy: 0.5762 - val_loss: 0.6549 - val_accuracy: 0.6494\n",
      "Epoch 43/60\n",
      "942/942 [==============================] - 45s 48ms/step - loss: 0.6688 - accuracy: 0.5782 - val_loss: 0.6539 - val_accuracy: 0.6364\n",
      "Epoch 44/60\n",
      "942/942 [==============================] - 45s 48ms/step - loss: 0.6683 - accuracy: 0.5792 - val_loss: 0.6532 - val_accuracy: 0.6494\n",
      "Epoch 45/60\n",
      "942/942 [==============================] - 44s 47ms/step - loss: 0.6674 - accuracy: 0.5805 - val_loss: 0.6524 - val_accuracy: 0.6494\n",
      "Epoch 46/60\n",
      "942/942 [==============================] - 46s 49ms/step - loss: 0.6675 - accuracy: 0.5754 - val_loss: 0.6514 - val_accuracy: 0.6623\n",
      "Epoch 47/60\n",
      "942/942 [==============================] - 46s 48ms/step - loss: 0.6672 - accuracy: 0.5788 - val_loss: 0.6513 - val_accuracy: 0.6623\n",
      "Epoch 48/60\n",
      "942/942 [==============================] - 45s 47ms/step - loss: 0.6670 - accuracy: 0.5809 - val_loss: 0.6505 - val_accuracy: 0.6623\n",
      "Epoch 49/60\n",
      "942/942 [==============================] - 44s 46ms/step - loss: 0.6665 - accuracy: 0.5847 - val_loss: 0.6502 - val_accuracy: 0.6494\n",
      "Epoch 50/60\n",
      "942/942 [==============================] - 44s 47ms/step - loss: 0.6653 - accuracy: 0.5820 - val_loss: 0.6502 - val_accuracy: 0.6494\n",
      "Epoch 51/60\n",
      "942/942 [==============================] - 45s 48ms/step - loss: 0.6642 - accuracy: 0.5812 - val_loss: 0.6493 - val_accuracy: 0.6494\n",
      "Epoch 52/60\n",
      "942/942 [==============================] - 48s 51ms/step - loss: 0.6639 - accuracy: 0.5819 - val_loss: 0.6489 - val_accuracy: 0.6494\n",
      "Epoch 53/60\n",
      "942/942 [==============================] - 46s 49ms/step - loss: 0.6635 - accuracy: 0.5840 - val_loss: 0.6478 - val_accuracy: 0.6494\n",
      "Epoch 54/60\n",
      "942/942 [==============================] - 45s 48ms/step - loss: 0.6630 - accuracy: 0.5788 - val_loss: 0.6472 - val_accuracy: 0.6494\n",
      "Epoch 55/60\n",
      "942/942 [==============================] - 47s 50ms/step - loss: 0.6631 - accuracy: 0.5859 - val_loss: 0.6471 - val_accuracy: 0.6364\n",
      "Epoch 56/60\n",
      "942/942 [==============================] - 48s 51ms/step - loss: 0.6620 - accuracy: 0.5837 - val_loss: 0.6461 - val_accuracy: 0.6364\n",
      "Epoch 57/60\n",
      "942/942 [==============================] - 46s 49ms/step - loss: 0.6622 - accuracy: 0.5882 - val_loss: 0.6457 - val_accuracy: 0.6364\n",
      "Epoch 58/60\n",
      "942/942 [==============================] - 45s 48ms/step - loss: 0.6605 - accuracy: 0.5938 - val_loss: 0.6457 - val_accuracy: 0.6104\n",
      "Epoch 59/60\n",
      "942/942 [==============================] - 46s 49ms/step - loss: 0.6604 - accuracy: 0.5892 - val_loss: 0.6453 - val_accuracy: 0.6104\n",
      "Epoch 60/60\n",
      "942/942 [==============================] - 46s 49ms/step - loss: 0.6609 - accuracy: 0.5930 - val_loss: 0.6454 - val_accuracy: 0.5974\n"
     ]
    },
    {
     "data": {
      "text/plain": [
       "<keras.callbacks.History at 0x7f9d2ec1c820>"
      ]
     },
     "execution_count": 759,
     "metadata": {},
     "output_type": "execute_result"
    }
   ],
   "source": [
    "model.fit(X_train, y_train, epochs=60, validation_data = (X_test, y_test), callbacks = early, batch_size=8)"
   ]
  },
  {
   "cell_type": "markdown",
   "metadata": {},
   "source": [
    "Here are the metrics for the model for all the epochs it ran"
   ]
  },
  {
   "cell_type": "code",
   "execution_count": 769,
   "metadata": {},
   "outputs": [
    {
     "data": {
      "text/html": [
       "<div>\n",
       "<style scoped>\n",
       "    .dataframe tbody tr th:only-of-type {\n",
       "        vertical-align: middle;\n",
       "    }\n",
       "\n",
       "    .dataframe tbody tr th {\n",
       "        vertical-align: top;\n",
       "    }\n",
       "\n",
       "    .dataframe thead th {\n",
       "        text-align: right;\n",
       "    }\n",
       "</style>\n",
       "<table border=\"1\" class=\"dataframe\">\n",
       "  <thead>\n",
       "    <tr style=\"text-align: right;\">\n",
       "      <th></th>\n",
       "      <th>loss</th>\n",
       "      <th>accuracy</th>\n",
       "      <th>val_loss</th>\n",
       "      <th>val_accuracy</th>\n",
       "    </tr>\n",
       "  </thead>\n",
       "  <tbody>\n",
       "    <tr>\n",
       "      <th>0</th>\n",
       "      <td>0.688042</td>\n",
       "      <td>0.559448</td>\n",
       "      <td>0.689230</td>\n",
       "      <td>0.623377</td>\n",
       "    </tr>\n",
       "    <tr>\n",
       "      <th>1</th>\n",
       "      <td>0.688759</td>\n",
       "      <td>0.553211</td>\n",
       "      <td>0.687900</td>\n",
       "      <td>0.610390</td>\n",
       "    </tr>\n",
       "    <tr>\n",
       "      <th>2</th>\n",
       "      <td>0.688636</td>\n",
       "      <td>0.557856</td>\n",
       "      <td>0.686976</td>\n",
       "      <td>0.610390</td>\n",
       "    </tr>\n",
       "    <tr>\n",
       "      <th>3</th>\n",
       "      <td>0.686819</td>\n",
       "      <td>0.565287</td>\n",
       "      <td>0.686037</td>\n",
       "      <td>0.610390</td>\n",
       "    </tr>\n",
       "    <tr>\n",
       "      <th>4</th>\n",
       "      <td>0.686292</td>\n",
       "      <td>0.567144</td>\n",
       "      <td>0.685113</td>\n",
       "      <td>0.610390</td>\n",
       "    </tr>\n",
       "    <tr>\n",
       "      <th>5</th>\n",
       "      <td>0.686198</td>\n",
       "      <td>0.565552</td>\n",
       "      <td>0.684207</td>\n",
       "      <td>0.623377</td>\n",
       "    </tr>\n",
       "    <tr>\n",
       "      <th>6</th>\n",
       "      <td>0.685581</td>\n",
       "      <td>0.566879</td>\n",
       "      <td>0.683377</td>\n",
       "      <td>0.623377</td>\n",
       "    </tr>\n",
       "    <tr>\n",
       "      <th>7</th>\n",
       "      <td>0.686261</td>\n",
       "      <td>0.567675</td>\n",
       "      <td>0.682279</td>\n",
       "      <td>0.623377</td>\n",
       "    </tr>\n",
       "    <tr>\n",
       "      <th>8</th>\n",
       "      <td>0.685208</td>\n",
       "      <td>0.571258</td>\n",
       "      <td>0.681331</td>\n",
       "      <td>0.623377</td>\n",
       "    </tr>\n",
       "    <tr>\n",
       "      <th>9</th>\n",
       "      <td>0.684175</td>\n",
       "      <td>0.568471</td>\n",
       "      <td>0.680725</td>\n",
       "      <td>0.623377</td>\n",
       "    </tr>\n",
       "    <tr>\n",
       "      <th>10</th>\n",
       "      <td>0.683338</td>\n",
       "      <td>0.566481</td>\n",
       "      <td>0.679617</td>\n",
       "      <td>0.623377</td>\n",
       "    </tr>\n",
       "    <tr>\n",
       "      <th>11</th>\n",
       "      <td>0.683336</td>\n",
       "      <td>0.567808</td>\n",
       "      <td>0.678833</td>\n",
       "      <td>0.623377</td>\n",
       "    </tr>\n",
       "    <tr>\n",
       "      <th>12</th>\n",
       "      <td>0.683090</td>\n",
       "      <td>0.568604</td>\n",
       "      <td>0.677877</td>\n",
       "      <td>0.623377</td>\n",
       "    </tr>\n",
       "    <tr>\n",
       "      <th>13</th>\n",
       "      <td>0.681527</td>\n",
       "      <td>0.570064</td>\n",
       "      <td>0.677290</td>\n",
       "      <td>0.623377</td>\n",
       "    </tr>\n",
       "    <tr>\n",
       "      <th>14</th>\n",
       "      <td>0.682128</td>\n",
       "      <td>0.566614</td>\n",
       "      <td>0.676214</td>\n",
       "      <td>0.623377</td>\n",
       "    </tr>\n",
       "    <tr>\n",
       "      <th>15</th>\n",
       "      <td>0.681509</td>\n",
       "      <td>0.572452</td>\n",
       "      <td>0.675234</td>\n",
       "      <td>0.623377</td>\n",
       "    </tr>\n",
       "    <tr>\n",
       "      <th>16</th>\n",
       "      <td>0.681300</td>\n",
       "      <td>0.570860</td>\n",
       "      <td>0.674663</td>\n",
       "      <td>0.623377</td>\n",
       "    </tr>\n",
       "    <tr>\n",
       "      <th>17</th>\n",
       "      <td>0.680777</td>\n",
       "      <td>0.570329</td>\n",
       "      <td>0.674154</td>\n",
       "      <td>0.636364</td>\n",
       "    </tr>\n",
       "    <tr>\n",
       "      <th>18</th>\n",
       "      <td>0.680227</td>\n",
       "      <td>0.572452</td>\n",
       "      <td>0.672937</td>\n",
       "      <td>0.636364</td>\n",
       "    </tr>\n",
       "    <tr>\n",
       "      <th>19</th>\n",
       "      <td>0.678580</td>\n",
       "      <td>0.573646</td>\n",
       "      <td>0.672063</td>\n",
       "      <td>0.636364</td>\n",
       "    </tr>\n",
       "    <tr>\n",
       "      <th>20</th>\n",
       "      <td>0.679283</td>\n",
       "      <td>0.569666</td>\n",
       "      <td>0.670981</td>\n",
       "      <td>0.636364</td>\n",
       "    </tr>\n",
       "    <tr>\n",
       "      <th>21</th>\n",
       "      <td>0.678344</td>\n",
       "      <td>0.571125</td>\n",
       "      <td>0.670298</td>\n",
       "      <td>0.649351</td>\n",
       "    </tr>\n",
       "    <tr>\n",
       "      <th>22</th>\n",
       "      <td>0.677250</td>\n",
       "      <td>0.574177</td>\n",
       "      <td>0.669235</td>\n",
       "      <td>0.649351</td>\n",
       "    </tr>\n",
       "    <tr>\n",
       "      <th>23</th>\n",
       "      <td>0.677561</td>\n",
       "      <td>0.574310</td>\n",
       "      <td>0.668385</td>\n",
       "      <td>0.649351</td>\n",
       "    </tr>\n",
       "    <tr>\n",
       "      <th>24</th>\n",
       "      <td>0.677171</td>\n",
       "      <td>0.571523</td>\n",
       "      <td>0.667716</td>\n",
       "      <td>0.649351</td>\n",
       "    </tr>\n",
       "    <tr>\n",
       "      <th>25</th>\n",
       "      <td>0.677209</td>\n",
       "      <td>0.574177</td>\n",
       "      <td>0.666841</td>\n",
       "      <td>0.649351</td>\n",
       "    </tr>\n",
       "    <tr>\n",
       "      <th>26</th>\n",
       "      <td>0.675293</td>\n",
       "      <td>0.574045</td>\n",
       "      <td>0.665867</td>\n",
       "      <td>0.649351</td>\n",
       "    </tr>\n",
       "    <tr>\n",
       "      <th>27</th>\n",
       "      <td>0.676791</td>\n",
       "      <td>0.571391</td>\n",
       "      <td>0.665312</td>\n",
       "      <td>0.649351</td>\n",
       "    </tr>\n",
       "    <tr>\n",
       "      <th>28</th>\n",
       "      <td>0.675190</td>\n",
       "      <td>0.575372</td>\n",
       "      <td>0.664453</td>\n",
       "      <td>0.649351</td>\n",
       "    </tr>\n",
       "    <tr>\n",
       "      <th>29</th>\n",
       "      <td>0.675273</td>\n",
       "      <td>0.576300</td>\n",
       "      <td>0.663952</td>\n",
       "      <td>0.649351</td>\n",
       "    </tr>\n",
       "    <tr>\n",
       "      <th>30</th>\n",
       "      <td>0.674067</td>\n",
       "      <td>0.574310</td>\n",
       "      <td>0.662860</td>\n",
       "      <td>0.649351</td>\n",
       "    </tr>\n",
       "    <tr>\n",
       "      <th>31</th>\n",
       "      <td>0.672614</td>\n",
       "      <td>0.572187</td>\n",
       "      <td>0.661487</td>\n",
       "      <td>0.649351</td>\n",
       "    </tr>\n",
       "    <tr>\n",
       "      <th>32</th>\n",
       "      <td>0.673546</td>\n",
       "      <td>0.576433</td>\n",
       "      <td>0.661400</td>\n",
       "      <td>0.649351</td>\n",
       "    </tr>\n",
       "    <tr>\n",
       "      <th>33</th>\n",
       "      <td>0.672696</td>\n",
       "      <td>0.573381</td>\n",
       "      <td>0.660289</td>\n",
       "      <td>0.649351</td>\n",
       "    </tr>\n",
       "    <tr>\n",
       "      <th>34</th>\n",
       "      <td>0.671981</td>\n",
       "      <td>0.575902</td>\n",
       "      <td>0.659173</td>\n",
       "      <td>0.649351</td>\n",
       "    </tr>\n",
       "    <tr>\n",
       "      <th>35</th>\n",
       "      <td>0.671836</td>\n",
       "      <td>0.573912</td>\n",
       "      <td>0.659039</td>\n",
       "      <td>0.662338</td>\n",
       "    </tr>\n",
       "    <tr>\n",
       "      <th>36</th>\n",
       "      <td>0.672606</td>\n",
       "      <td>0.574575</td>\n",
       "      <td>0.657446</td>\n",
       "      <td>0.649351</td>\n",
       "    </tr>\n",
       "    <tr>\n",
       "      <th>37</th>\n",
       "      <td>0.672144</td>\n",
       "      <td>0.574841</td>\n",
       "      <td>0.657002</td>\n",
       "      <td>0.662338</td>\n",
       "    </tr>\n",
       "    <tr>\n",
       "      <th>38</th>\n",
       "      <td>0.671141</td>\n",
       "      <td>0.573779</td>\n",
       "      <td>0.656737</td>\n",
       "      <td>0.649351</td>\n",
       "    </tr>\n",
       "    <tr>\n",
       "      <th>39</th>\n",
       "      <td>0.670364</td>\n",
       "      <td>0.574708</td>\n",
       "      <td>0.655690</td>\n",
       "      <td>0.649351</td>\n",
       "    </tr>\n",
       "    <tr>\n",
       "      <th>40</th>\n",
       "      <td>0.671244</td>\n",
       "      <td>0.576168</td>\n",
       "      <td>0.655178</td>\n",
       "      <td>0.649351</td>\n",
       "    </tr>\n",
       "    <tr>\n",
       "      <th>41</th>\n",
       "      <td>0.669158</td>\n",
       "      <td>0.576168</td>\n",
       "      <td>0.654909</td>\n",
       "      <td>0.649351</td>\n",
       "    </tr>\n",
       "    <tr>\n",
       "      <th>42</th>\n",
       "      <td>0.668790</td>\n",
       "      <td>0.578158</td>\n",
       "      <td>0.653881</td>\n",
       "      <td>0.636364</td>\n",
       "    </tr>\n",
       "    <tr>\n",
       "      <th>43</th>\n",
       "      <td>0.668265</td>\n",
       "      <td>0.579220</td>\n",
       "      <td>0.653245</td>\n",
       "      <td>0.649351</td>\n",
       "    </tr>\n",
       "    <tr>\n",
       "      <th>44</th>\n",
       "      <td>0.667398</td>\n",
       "      <td>0.580547</td>\n",
       "      <td>0.652371</td>\n",
       "      <td>0.649351</td>\n",
       "    </tr>\n",
       "    <tr>\n",
       "      <th>45</th>\n",
       "      <td>0.667466</td>\n",
       "      <td>0.575372</td>\n",
       "      <td>0.651425</td>\n",
       "      <td>0.662338</td>\n",
       "    </tr>\n",
       "    <tr>\n",
       "      <th>46</th>\n",
       "      <td>0.667181</td>\n",
       "      <td>0.578822</td>\n",
       "      <td>0.651287</td>\n",
       "      <td>0.662338</td>\n",
       "    </tr>\n",
       "    <tr>\n",
       "      <th>47</th>\n",
       "      <td>0.667000</td>\n",
       "      <td>0.580945</td>\n",
       "      <td>0.650498</td>\n",
       "      <td>0.662338</td>\n",
       "    </tr>\n",
       "    <tr>\n",
       "      <th>48</th>\n",
       "      <td>0.666549</td>\n",
       "      <td>0.584660</td>\n",
       "      <td>0.650237</td>\n",
       "      <td>0.649351</td>\n",
       "    </tr>\n",
       "    <tr>\n",
       "      <th>49</th>\n",
       "      <td>0.665293</td>\n",
       "      <td>0.582006</td>\n",
       "      <td>0.650188</td>\n",
       "      <td>0.649351</td>\n",
       "    </tr>\n",
       "    <tr>\n",
       "      <th>50</th>\n",
       "      <td>0.664177</td>\n",
       "      <td>0.581210</td>\n",
       "      <td>0.649297</td>\n",
       "      <td>0.649351</td>\n",
       "    </tr>\n",
       "    <tr>\n",
       "      <th>51</th>\n",
       "      <td>0.663915</td>\n",
       "      <td>0.581874</td>\n",
       "      <td>0.648856</td>\n",
       "      <td>0.649351</td>\n",
       "    </tr>\n",
       "    <tr>\n",
       "      <th>52</th>\n",
       "      <td>0.663497</td>\n",
       "      <td>0.583997</td>\n",
       "      <td>0.647849</td>\n",
       "      <td>0.649351</td>\n",
       "    </tr>\n",
       "    <tr>\n",
       "      <th>53</th>\n",
       "      <td>0.663046</td>\n",
       "      <td>0.578822</td>\n",
       "      <td>0.647214</td>\n",
       "      <td>0.649351</td>\n",
       "    </tr>\n",
       "    <tr>\n",
       "      <th>54</th>\n",
       "      <td>0.663122</td>\n",
       "      <td>0.585855</td>\n",
       "      <td>0.647098</td>\n",
       "      <td>0.636364</td>\n",
       "    </tr>\n",
       "    <tr>\n",
       "      <th>55</th>\n",
       "      <td>0.661955</td>\n",
       "      <td>0.583731</td>\n",
       "      <td>0.646145</td>\n",
       "      <td>0.636364</td>\n",
       "    </tr>\n",
       "    <tr>\n",
       "      <th>56</th>\n",
       "      <td>0.662205</td>\n",
       "      <td>0.588243</td>\n",
       "      <td>0.645668</td>\n",
       "      <td>0.636364</td>\n",
       "    </tr>\n",
       "    <tr>\n",
       "      <th>57</th>\n",
       "      <td>0.660495</td>\n",
       "      <td>0.593816</td>\n",
       "      <td>0.645665</td>\n",
       "      <td>0.610390</td>\n",
       "    </tr>\n",
       "    <tr>\n",
       "      <th>58</th>\n",
       "      <td>0.660413</td>\n",
       "      <td>0.589172</td>\n",
       "      <td>0.645298</td>\n",
       "      <td>0.610390</td>\n",
       "    </tr>\n",
       "    <tr>\n",
       "      <th>59</th>\n",
       "      <td>0.660891</td>\n",
       "      <td>0.593020</td>\n",
       "      <td>0.645372</td>\n",
       "      <td>0.597403</td>\n",
       "    </tr>\n",
       "  </tbody>\n",
       "</table>\n",
       "</div>"
      ],
      "text/plain": [
       "        loss  accuracy  val_loss  val_accuracy\n",
       "0   0.688042  0.559448  0.689230      0.623377\n",
       "1   0.688759  0.553211  0.687900      0.610390\n",
       "2   0.688636  0.557856  0.686976      0.610390\n",
       "3   0.686819  0.565287  0.686037      0.610390\n",
       "4   0.686292  0.567144  0.685113      0.610390\n",
       "5   0.686198  0.565552  0.684207      0.623377\n",
       "6   0.685581  0.566879  0.683377      0.623377\n",
       "7   0.686261  0.567675  0.682279      0.623377\n",
       "8   0.685208  0.571258  0.681331      0.623377\n",
       "9   0.684175  0.568471  0.680725      0.623377\n",
       "10  0.683338  0.566481  0.679617      0.623377\n",
       "11  0.683336  0.567808  0.678833      0.623377\n",
       "12  0.683090  0.568604  0.677877      0.623377\n",
       "13  0.681527  0.570064  0.677290      0.623377\n",
       "14  0.682128  0.566614  0.676214      0.623377\n",
       "15  0.681509  0.572452  0.675234      0.623377\n",
       "16  0.681300  0.570860  0.674663      0.623377\n",
       "17  0.680777  0.570329  0.674154      0.636364\n",
       "18  0.680227  0.572452  0.672937      0.636364\n",
       "19  0.678580  0.573646  0.672063      0.636364\n",
       "20  0.679283  0.569666  0.670981      0.636364\n",
       "21  0.678344  0.571125  0.670298      0.649351\n",
       "22  0.677250  0.574177  0.669235      0.649351\n",
       "23  0.677561  0.574310  0.668385      0.649351\n",
       "24  0.677171  0.571523  0.667716      0.649351\n",
       "25  0.677209  0.574177  0.666841      0.649351\n",
       "26  0.675293  0.574045  0.665867      0.649351\n",
       "27  0.676791  0.571391  0.665312      0.649351\n",
       "28  0.675190  0.575372  0.664453      0.649351\n",
       "29  0.675273  0.576300  0.663952      0.649351\n",
       "30  0.674067  0.574310  0.662860      0.649351\n",
       "31  0.672614  0.572187  0.661487      0.649351\n",
       "32  0.673546  0.576433  0.661400      0.649351\n",
       "33  0.672696  0.573381  0.660289      0.649351\n",
       "34  0.671981  0.575902  0.659173      0.649351\n",
       "35  0.671836  0.573912  0.659039      0.662338\n",
       "36  0.672606  0.574575  0.657446      0.649351\n",
       "37  0.672144  0.574841  0.657002      0.662338\n",
       "38  0.671141  0.573779  0.656737      0.649351\n",
       "39  0.670364  0.574708  0.655690      0.649351\n",
       "40  0.671244  0.576168  0.655178      0.649351\n",
       "41  0.669158  0.576168  0.654909      0.649351\n",
       "42  0.668790  0.578158  0.653881      0.636364\n",
       "43  0.668265  0.579220  0.653245      0.649351\n",
       "44  0.667398  0.580547  0.652371      0.649351\n",
       "45  0.667466  0.575372  0.651425      0.662338\n",
       "46  0.667181  0.578822  0.651287      0.662338\n",
       "47  0.667000  0.580945  0.650498      0.662338\n",
       "48  0.666549  0.584660  0.650237      0.649351\n",
       "49  0.665293  0.582006  0.650188      0.649351\n",
       "50  0.664177  0.581210  0.649297      0.649351\n",
       "51  0.663915  0.581874  0.648856      0.649351\n",
       "52  0.663497  0.583997  0.647849      0.649351\n",
       "53  0.663046  0.578822  0.647214      0.649351\n",
       "54  0.663122  0.585855  0.647098      0.636364\n",
       "55  0.661955  0.583731  0.646145      0.636364\n",
       "56  0.662205  0.588243  0.645668      0.636364\n",
       "57  0.660495  0.593816  0.645665      0.610390\n",
       "58  0.660413  0.589172  0.645298      0.610390\n",
       "59  0.660891  0.593020  0.645372      0.597403"
      ]
     },
     "execution_count": 769,
     "metadata": {},
     "output_type": "execute_result"
    }
   ],
   "source": [
    "pd.DataFrame(model.history.history)"
   ]
  },
  {
   "cell_type": "markdown",
   "metadata": {},
   "source": [
    "Here is a plot of loss vs. val_loss through all the epochs"
   ]
  },
  {
   "cell_type": "code",
   "execution_count": 770,
   "metadata": {},
   "outputs": [
    {
     "data": {
      "text/plain": [
       "<AxesSubplot:>"
      ]
     },
     "execution_count": 770,
     "metadata": {},
     "output_type": "execute_result"
    },
    {
     "data": {
      "image/png": "[encoded data removed]",
      "text/plain": [
       "<Figure size 432x288 with 1 Axes>"
      ]
     },
     "metadata": {
      "needs_background": "light"
     },
     "output_type": "display_data"
    }
   ],
   "source": [
    "pd.DataFrame(model.history.history)[['loss','val_loss']].plot()"
   ]
  },
  {
   "cell_type": "markdown",
   "metadata": {},
   "source": [
    "Here is a plot of accuracy vs. val_accuracy through all the epochs"
   ]
  },
  {
   "cell_type": "code",
   "execution_count": 771,
   "metadata": {},
   "outputs": [
    {
     "data": {
      "text/plain": [
       "<AxesSubplot:>"
      ]
     },
     "execution_count": 771,
     "metadata": {},
     "output_type": "execute_result"
    },
    {
     "data": {
      "image/png": "[encoded data removed]",
      "text/plain": [
       "<Figure size 432x288 with 1 Axes>"
      ]
     },
     "metadata": {
      "needs_background": "light"
     },
     "output_type": "display_data"
    }
   ],
   "source": [
    "pd.DataFrame(model.history.history)[['accuracy','val_accuracy']].plot()"
   ]
  },
  {
   "cell_type": "markdown",
   "metadata": {},
   "source": [
    "For both train and test, we got similar values at the last epoch for both accuracies and losses. Accuracies were around 0.59 whereas loss was around 0.65. This project allowed me to learn the importance of hyperparameter tuning, to know not to overfit or underfit to the data, and be patient as training will take some time depending on how big the dataset is. Hyperparameter tuning allows you to tune based on whether you are satisfied with the accuracy or loss. The model we created for this project isn't the best. However, with a deeper dive into NLP and/or RNN, or hyperparameter tuning, we can get a higher score on accuracy"
   ]
  },
  {
   "cell_type": "markdown",
   "metadata": {},
   "source": [
    "We will now get predictions for the test dataset from the beginning"
   ]
  },
  {
   "cell_type": "code",
   "execution_count": 36,
   "metadata": {},
   "outputs": [],
   "source": [
    "tokenized_text = []\n",
    "for text in range(0,len(test)):\n",
    "    a = word_tokenize(text_preprocess(test['text'].iloc[text]))\n",
    "    tokenized_text.append(a)"
   ]
  },
  {
   "cell_type": "code",
   "execution_count": 37,
   "metadata": {},
   "outputs": [],
   "source": [
    "from keras.preprocessing import text, sequence\n",
    "vectorizer = text.Tokenizer()\n",
    "vectorizer.fit_on_texts(tokenized_text)\n",
    "vectorized_text = vectorizer.texts_to_sequences(tokenized_text)\n",
    "test_X = sequence.pad_sequences(vectorized_text)"
   ]
  },
  {
   "cell_type": "markdown",
   "metadata": {},
   "source": [
    "Make sure to scale between 0 and 16,824 since that was the scale used for training above"
   ]
  },
  {
   "cell_type": "code",
   "execution_count": 42,
   "metadata": {},
   "outputs": [],
   "source": [
    "from sklearn.preprocessing import MinMaxScaler\n",
    "scaler = MinMaxScaler((0,16824))\n",
    "test_X = scaler.fit_transform(test_X)"
   ]
  },
  {
   "cell_type": "code",
   "execution_count": 778,
   "metadata": {},
   "outputs": [],
   "source": [
    "# make sure to use np.round to round predictions to either 0s or 1s"
   ]
  },
  {
   "cell_type": "code",
   "execution_count": 779,
   "metadata": {},
   "outputs": [],
   "source": [
    "pred = np.round(model.predict(test_X)).astype(int)"
   ]
  },
  {
   "cell_type": "code",
   "execution_count": 773,
   "metadata": {},
   "outputs": [],
   "source": [
    "test['target'] = pred\n",
    "predictions = test[['id','target']]\n",
    "predictions = predictions.set_index('id')"
   ]
  },
  {
   "cell_type": "code",
   "execution_count": 774,
   "metadata": {},
   "outputs": [
    {
     "data": {
      "text/plain": [
       "0    2554\n",
       "1     709\n",
       "Name: target, dtype: int64"
      ]
     },
     "execution_count": 774,
     "metadata": {},
     "output_type": "execute_result"
    }
   ],
   "source": [
    "predictions['target'].value_counts()"
   ]
  },
  {
   "cell_type": "code",
   "execution_count": 775,
   "metadata": {},
   "outputs": [],
   "source": [
    "predictions.to_csv('predictions62.csv')"
   ]
  },
  {
   "cell_type": "markdown",
   "metadata": {},
   "source": [
    "Kaggle score of 0.57309, which is similar to the accuracies we got above!"
   ]
  }
 ],
 "metadata": {
  "kernelspec": {
   "display_name": "Python 3",
   "language": "python",
   "name": "python3"
  },
  "language_info": {
   "codemirror_mode": {
    "name": "ipython",
    "version": 3
   },
   "file_extension": ".py",
   "mimetype": "text/x-python",
   "name": "python",
   "nbconvert_exporter": "python",
   "pygments_lexer": "ipython3",
   "version": "3.8.5"
  }
 },
 "nbformat": 4,
 "nbformat_minor": 4
}
